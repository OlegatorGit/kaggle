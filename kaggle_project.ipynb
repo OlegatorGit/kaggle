{
 "cells": [
  {
   "cell_type": "markdown",
   "id": "73aedd16-dbbb-411a-b064-7976e0220f47",
   "metadata": {},
   "source": [
    "# Проект для Kaggle"
   ]
  },
  {
   "cell_type": "markdown",
   "id": "7651e620-5bfa-48ba-a640-59daade2494f",
   "metadata": {
    "editable": true,
    "slideshow": {
     "slide_type": ""
    },
    "tags": []
   },
   "source": [
    "# Цели и задачи"
   ]
  },
  {
   "cell_type": "markdown",
   "id": "1f4933b3-b29d-4539-bcf1-5c343958a1ec",
   "metadata": {
    "editable": true,
    "slideshow": {
     "slide_type": "slide"
    },
    "tags": []
   },
   "source": [
    "Были предоставлены табличные данные, в которых указана информация о стартапах, которые функционировали в период с 1980 по 2018 год. Необходимо произвести обработку этих данных, провести исследовательский анализ и итогом данной работы будет является модель машинного обучения, которая будет предсказывать продолжение деятельности стартапа. (Признак status)"
   ]
  },
  {
   "cell_type": "markdown",
   "id": "d2a54d7e-12f3-403f-a672-46c85b7a615e",
   "metadata": {},
   "source": [
    "## Загрузка библиотек и предварительный просмотр файлов"
   ]
  },
  {
   "cell_type": "code",
   "execution_count": 1,
   "id": "f0071557-ac63-4351-bf5b-9b709ee1c67a",
   "metadata": {
    "editable": true,
    "slideshow": {
     "slide_type": "slide"
    },
    "tags": []
   },
   "outputs": [],
   "source": [
    "# Библиотеки для преодобработки и исследования данных\n",
    "\n",
    "import pandas as pd\n",
    "import matplotlib.pyplot as plt\n",
    "import seaborn as sns\n",
    "import math\n",
    "import numpy as np\n",
    "from scipy import stats as st\n",
    "from scipy.stats import binom\n",
    "import random\n",
    "from collections import Counter\n",
    "\n",
    "import phik\n",
    "from phik import phik_matrix\n",
    "from phik.report import plot_correlation_matrix\n",
    "import shap\n",
    "\n",
    "# Подготовка данных для МО\n",
    "from sklearn.model_selection import train_test_split\n",
    "from sklearn.pipeline import Pipeline\n",
    "from sklearn.compose import ColumnTransformer\n",
    "from sklearn.impute import SimpleImputer\n",
    "from sklearn.preprocessing import OneHotEncoder, StandardScaler, MinMaxScaler, OrdinalEncoder, FunctionTransformer\n",
    "from sklearn.model_selection import RandomizedSearchCV, GridSearchCV\n",
    "from sklearn.inspection import permutation_importance\n",
    "\n",
    "# Модели МО\n",
    "from sklearn.linear_model import LinearRegression, LogisticRegression\n",
    "from sklearn.neighbors import KNeighborsClassifier\n",
    "from sklearn.tree import DecisionTreeClassifier, DecisionTreeRegressor\n",
    "from sklearn.svm import SVC\n",
    "\n",
    "# Метрики для МО\n",
    "from sklearn.metrics import r2_score, mean_squared_error, mean_absolute_error, accuracy_score,\\\n",
    "confusion_matrix, recall_score, precision_score, root_mean_squared_error, make_scorer, roc_auc_score"
   ]
  },
  {
   "cell_type": "code",
   "execution_count": 2,
   "id": "19f4d07e-dc4f-4fa1-af0c-8b36bb854688",
   "metadata": {},
   "outputs": [],
   "source": [
    "plt.rcParams[\"figure.figsize\"] = (15, 6)"
   ]
  },
  {
   "cell_type": "code",
   "execution_count": 3,
   "id": "d69a1d38-afaa-49fe-bd60-f826441ce765",
   "metadata": {},
   "outputs": [],
   "source": [
    "try:\n",
    "    sample = pd.read_csv('/Users/oleg/Desktop/Kaggle/kaggle_startups_sample_submit_28062024.csv')\n",
    "except:\n",
    "    print('Loading error')"
   ]
  },
  {
   "cell_type": "code",
   "execution_count": 4,
   "id": "a961da3a-6c25-4ad9-b60e-3c0cd60a741b",
   "metadata": {},
   "outputs": [],
   "source": [
    "try:\n",
    "    test = pd.read_csv('/Users/oleg/Desktop/Kaggle/kaggle_startups_test_28062024.csv')\n",
    "except:\n",
    "    print('Loading error')"
   ]
  },
  {
   "cell_type": "code",
   "execution_count": 5,
   "id": "17765b60-7d97-41a6-ad7b-fe72c26bcb5c",
   "metadata": {},
   "outputs": [],
   "source": [
    "try:\n",
    "    train = pd.read_csv('/Users/oleg/Desktop/Kaggle/kaggle_startups_train_28062024.csv')\n",
    "except:\n",
    "    print('Loading error')"
   ]
  },
  {
   "cell_type": "markdown",
   "id": "b6ce798d-cdd4-4e61-b528-13d75183c6e2",
   "metadata": {},
   "source": [
    "<div class=\"alert alert-info\" style=\"border-radius: 15px; box-shadow: 4px 4px 4px; border: 1px solid \">\n",
    "    \n",
    "В данном проекте датасет sample является примером, для того, как должен выглядеть результат работы модели. Поэтому исследовать и проверять его не нужно.\n",
    "</div>"
   ]
  },
  {
   "cell_type": "markdown",
   "id": "ff10e1b9-3018-4dc6-8dd3-ca74cc1d36e5",
   "metadata": {},
   "source": [
    "### Train"
   ]
  },
  {
   "cell_type": "code",
   "execution_count": 6,
   "id": "8050f104-fbd9-4465-822d-83fb6f8c3adc",
   "metadata": {},
   "outputs": [
    {
     "name": "stdout",
     "output_type": "stream",
     "text": [
      "<class 'pandas.core.frame.DataFrame'>\n",
      "RangeIndex: 52516 entries, 0 to 52515\n",
      "Data columns (total 13 columns):\n",
      " #   Column             Non-Null Count  Dtype  \n",
      "---  ------             --------------  -----  \n",
      " 0   name               52515 non-null  object \n",
      " 1   category_list      50051 non-null  object \n",
      " 2   funding_total_usd  42447 non-null  float64\n",
      " 3   status             52516 non-null  object \n",
      " 4   country_code       47014 non-null  object \n",
      " 5   state_code         45753 non-null  object \n",
      " 6   region             46157 non-null  object \n",
      " 7   city               46157 non-null  object \n",
      " 8   funding_rounds     52516 non-null  int64  \n",
      " 9   founded_at         52516 non-null  object \n",
      " 10  first_funding_at   52516 non-null  object \n",
      " 11  last_funding_at    52516 non-null  object \n",
      " 12  closed_at          4917 non-null   object \n",
      "dtypes: float64(1), int64(1), object(11)\n",
      "memory usage: 5.2+ MB\n"
     ]
    }
   ],
   "source": [
    "train.info()"
   ]
  },
  {
   "cell_type": "code",
   "execution_count": 7,
   "id": "e3964ec4-13ec-4789-b1cd-9279159c836e",
   "metadata": {},
   "outputs": [
    {
     "data": {
      "text/html": [
       "<div>\n",
       "<style scoped>\n",
       "    .dataframe tbody tr th:only-of-type {\n",
       "        vertical-align: middle;\n",
       "    }\n",
       "\n",
       "    .dataframe tbody tr th {\n",
       "        vertical-align: top;\n",
       "    }\n",
       "\n",
       "    .dataframe thead th {\n",
       "        text-align: right;\n",
       "    }\n",
       "</style>\n",
       "<table border=\"1\" class=\"dataframe\">\n",
       "  <thead>\n",
       "    <tr style=\"text-align: right;\">\n",
       "      <th></th>\n",
       "      <th>name</th>\n",
       "      <th>category_list</th>\n",
       "      <th>funding_total_usd</th>\n",
       "      <th>status</th>\n",
       "      <th>country_code</th>\n",
       "      <th>state_code</th>\n",
       "      <th>region</th>\n",
       "      <th>city</th>\n",
       "      <th>funding_rounds</th>\n",
       "      <th>founded_at</th>\n",
       "      <th>first_funding_at</th>\n",
       "      <th>last_funding_at</th>\n",
       "      <th>closed_at</th>\n",
       "    </tr>\n",
       "  </thead>\n",
       "  <tbody>\n",
       "    <tr>\n",
       "      <th>0</th>\n",
       "      <td>Lunchgate</td>\n",
       "      <td>Online Reservations|Restaurants</td>\n",
       "      <td>828626.0</td>\n",
       "      <td>operating</td>\n",
       "      <td>CHE</td>\n",
       "      <td>25</td>\n",
       "      <td>Zurich</td>\n",
       "      <td>Zürich</td>\n",
       "      <td>2</td>\n",
       "      <td>2009-10-17</td>\n",
       "      <td>2011-05-01</td>\n",
       "      <td>2014-12-01</td>\n",
       "      <td>NaN</td>\n",
       "    </tr>\n",
       "    <tr>\n",
       "      <th>1</th>\n",
       "      <td>EarLens</td>\n",
       "      <td>Manufacturing|Medical|Medical Devices</td>\n",
       "      <td>42935019.0</td>\n",
       "      <td>operating</td>\n",
       "      <td>USA</td>\n",
       "      <td>CA</td>\n",
       "      <td>SF Bay Area</td>\n",
       "      <td>Redwood City</td>\n",
       "      <td>4</td>\n",
       "      <td>2005-01-01</td>\n",
       "      <td>2010-05-04</td>\n",
       "      <td>2014-02-25</td>\n",
       "      <td>NaN</td>\n",
       "    </tr>\n",
       "    <tr>\n",
       "      <th>2</th>\n",
       "      <td>Reviva Pharmaceuticals</td>\n",
       "      <td>Biotechnology</td>\n",
       "      <td>35456381.0</td>\n",
       "      <td>operating</td>\n",
       "      <td>USA</td>\n",
       "      <td>CA</td>\n",
       "      <td>SF Bay Area</td>\n",
       "      <td>San Jose</td>\n",
       "      <td>3</td>\n",
       "      <td>2006-01-01</td>\n",
       "      <td>2012-08-20</td>\n",
       "      <td>2014-07-02</td>\n",
       "      <td>NaN</td>\n",
       "    </tr>\n",
       "    <tr>\n",
       "      <th>3</th>\n",
       "      <td>Sancilio and Company</td>\n",
       "      <td>Health Care</td>\n",
       "      <td>22250000.0</td>\n",
       "      <td>operating</td>\n",
       "      <td>NaN</td>\n",
       "      <td>NaN</td>\n",
       "      <td>NaN</td>\n",
       "      <td>NaN</td>\n",
       "      <td>3</td>\n",
       "      <td>2004-01-01</td>\n",
       "      <td>2011-09-01</td>\n",
       "      <td>2014-07-18</td>\n",
       "      <td>NaN</td>\n",
       "    </tr>\n",
       "    <tr>\n",
       "      <th>4</th>\n",
       "      <td>WireTough Cylinders</td>\n",
       "      <td>Manufacturing</td>\n",
       "      <td>NaN</td>\n",
       "      <td>operating</td>\n",
       "      <td>USA</td>\n",
       "      <td>VA</td>\n",
       "      <td>VA - Other</td>\n",
       "      <td>Bristol</td>\n",
       "      <td>1</td>\n",
       "      <td>2010-05-12</td>\n",
       "      <td>2012-02-01</td>\n",
       "      <td>2012-02-01</td>\n",
       "      <td>NaN</td>\n",
       "    </tr>\n",
       "    <tr>\n",
       "      <th>5</th>\n",
       "      <td>Connected Sports Ventures</td>\n",
       "      <td>Mobile</td>\n",
       "      <td>4300000.0</td>\n",
       "      <td>operating</td>\n",
       "      <td>USA</td>\n",
       "      <td>NJ</td>\n",
       "      <td>Newark</td>\n",
       "      <td>Princeton</td>\n",
       "      <td>1</td>\n",
       "      <td>2011-04-16</td>\n",
       "      <td>2012-11-12</td>\n",
       "      <td>2012-11-12</td>\n",
       "      <td>NaN</td>\n",
       "    </tr>\n",
       "    <tr>\n",
       "      <th>6</th>\n",
       "      <td>Attensity</td>\n",
       "      <td>Analytics|Business Analytics|Social CRM|Social...</td>\n",
       "      <td>90000000.0</td>\n",
       "      <td>operating</td>\n",
       "      <td>USA</td>\n",
       "      <td>CA</td>\n",
       "      <td>SF Bay Area</td>\n",
       "      <td>Redwood City</td>\n",
       "      <td>1</td>\n",
       "      <td>2000-01-01</td>\n",
       "      <td>2014-05-14</td>\n",
       "      <td>2014-05-14</td>\n",
       "      <td>NaN</td>\n",
       "    </tr>\n",
       "    <tr>\n",
       "      <th>7</th>\n",
       "      <td>Mesh Networks</td>\n",
       "      <td>Software</td>\n",
       "      <td>4300000.0</td>\n",
       "      <td>operating</td>\n",
       "      <td>USA</td>\n",
       "      <td>TX</td>\n",
       "      <td>Houston</td>\n",
       "      <td>Houston</td>\n",
       "      <td>1</td>\n",
       "      <td>2005-01-01</td>\n",
       "      <td>2014-11-09</td>\n",
       "      <td>2014-11-09</td>\n",
       "      <td>NaN</td>\n",
       "    </tr>\n",
       "    <tr>\n",
       "      <th>8</th>\n",
       "      <td>AngioScore</td>\n",
       "      <td>Biotechnology</td>\n",
       "      <td>42000000.0</td>\n",
       "      <td>operating</td>\n",
       "      <td>USA</td>\n",
       "      <td>CA</td>\n",
       "      <td>SF Bay Area</td>\n",
       "      <td>Fremont</td>\n",
       "      <td>2</td>\n",
       "      <td>2003-01-01</td>\n",
       "      <td>2007-10-09</td>\n",
       "      <td>2011-04-20</td>\n",
       "      <td>NaN</td>\n",
       "    </tr>\n",
       "    <tr>\n",
       "      <th>9</th>\n",
       "      <td>Vidatronic</td>\n",
       "      <td>Semiconductors</td>\n",
       "      <td>1250500.0</td>\n",
       "      <td>operating</td>\n",
       "      <td>USA</td>\n",
       "      <td>TX</td>\n",
       "      <td>Austin</td>\n",
       "      <td>College Station</td>\n",
       "      <td>2</td>\n",
       "      <td>2010-01-01</td>\n",
       "      <td>2011-08-23</td>\n",
       "      <td>2013-03-21</td>\n",
       "      <td>NaN</td>\n",
       "    </tr>\n",
       "  </tbody>\n",
       "</table>\n",
       "</div>"
      ],
      "text/plain": [
       "                        name  \\\n",
       "0                  Lunchgate   \n",
       "1                    EarLens   \n",
       "2     Reviva Pharmaceuticals   \n",
       "3       Sancilio and Company   \n",
       "4        WireTough Cylinders   \n",
       "5  Connected Sports Ventures   \n",
       "6                  Attensity   \n",
       "7              Mesh Networks   \n",
       "8                 AngioScore   \n",
       "9                 Vidatronic   \n",
       "\n",
       "                                       category_list  funding_total_usd  \\\n",
       "0                    Online Reservations|Restaurants           828626.0   \n",
       "1              Manufacturing|Medical|Medical Devices         42935019.0   \n",
       "2                                      Biotechnology         35456381.0   \n",
       "3                                        Health Care         22250000.0   \n",
       "4                                      Manufacturing                NaN   \n",
       "5                                             Mobile          4300000.0   \n",
       "6  Analytics|Business Analytics|Social CRM|Social...         90000000.0   \n",
       "7                                           Software          4300000.0   \n",
       "8                                      Biotechnology         42000000.0   \n",
       "9                                     Semiconductors          1250500.0   \n",
       "\n",
       "      status country_code state_code       region             city  \\\n",
       "0  operating          CHE         25       Zurich           Zürich   \n",
       "1  operating          USA         CA  SF Bay Area     Redwood City   \n",
       "2  operating          USA         CA  SF Bay Area         San Jose   \n",
       "3  operating          NaN        NaN          NaN              NaN   \n",
       "4  operating          USA         VA   VA - Other          Bristol   \n",
       "5  operating          USA         NJ       Newark        Princeton   \n",
       "6  operating          USA         CA  SF Bay Area     Redwood City   \n",
       "7  operating          USA         TX      Houston          Houston   \n",
       "8  operating          USA         CA  SF Bay Area          Fremont   \n",
       "9  operating          USA         TX       Austin  College Station   \n",
       "\n",
       "   funding_rounds  founded_at first_funding_at last_funding_at closed_at  \n",
       "0               2  2009-10-17       2011-05-01      2014-12-01       NaN  \n",
       "1               4  2005-01-01       2010-05-04      2014-02-25       NaN  \n",
       "2               3  2006-01-01       2012-08-20      2014-07-02       NaN  \n",
       "3               3  2004-01-01       2011-09-01      2014-07-18       NaN  \n",
       "4               1  2010-05-12       2012-02-01      2012-02-01       NaN  \n",
       "5               1  2011-04-16       2012-11-12      2012-11-12       NaN  \n",
       "6               1  2000-01-01       2014-05-14      2014-05-14       NaN  \n",
       "7               1  2005-01-01       2014-11-09      2014-11-09       NaN  \n",
       "8               2  2003-01-01       2007-10-09      2011-04-20       NaN  \n",
       "9               2  2010-01-01       2011-08-23      2013-03-21       NaN  "
      ]
     },
     "execution_count": 7,
     "metadata": {},
     "output_type": "execute_result"
    }
   ],
   "source": [
    "train.head(10)"
   ]
  },
  {
   "cell_type": "markdown",
   "id": "d4d1ddae-5b2a-4bf6-b4fe-ce04e01b392b",
   "metadata": {},
   "source": [
    "### Test"
   ]
  },
  {
   "cell_type": "code",
   "execution_count": 8,
   "id": "58cfe889-c8fc-4b75-a7b3-991d65b5e312",
   "metadata": {},
   "outputs": [
    {
     "name": "stdout",
     "output_type": "stream",
     "text": [
      "<class 'pandas.core.frame.DataFrame'>\n",
      "RangeIndex: 13125 entries, 0 to 13124\n",
      "Data columns (total 11 columns):\n",
      " #   Column             Non-Null Count  Dtype  \n",
      "---  ------             --------------  -----  \n",
      " 0   name               13125 non-null  object \n",
      " 1   category_list      12534 non-null  object \n",
      " 2   funding_total_usd  10547 non-null  float64\n",
      " 3   country_code       11743 non-null  object \n",
      " 4   state_code         11430 non-null  object \n",
      " 5   region             11536 non-null  object \n",
      " 6   city               11538 non-null  object \n",
      " 7   funding_rounds     13125 non-null  int64  \n",
      " 8   first_funding_at   13125 non-null  object \n",
      " 9   last_funding_at    13125 non-null  object \n",
      " 10  lifetime           13125 non-null  int64  \n",
      "dtypes: float64(1), int64(2), object(8)\n",
      "memory usage: 1.1+ MB\n"
     ]
    }
   ],
   "source": [
    "test.info()"
   ]
  },
  {
   "cell_type": "code",
   "execution_count": 9,
   "id": "989f628c-5918-47fa-9cab-264bd183da1b",
   "metadata": {},
   "outputs": [
    {
     "data": {
      "text/html": [
       "<div>\n",
       "<style scoped>\n",
       "    .dataframe tbody tr th:only-of-type {\n",
       "        vertical-align: middle;\n",
       "    }\n",
       "\n",
       "    .dataframe tbody tr th {\n",
       "        vertical-align: top;\n",
       "    }\n",
       "\n",
       "    .dataframe thead th {\n",
       "        text-align: right;\n",
       "    }\n",
       "</style>\n",
       "<table border=\"1\" class=\"dataframe\">\n",
       "  <thead>\n",
       "    <tr style=\"text-align: right;\">\n",
       "      <th></th>\n",
       "      <th>name</th>\n",
       "      <th>category_list</th>\n",
       "      <th>funding_total_usd</th>\n",
       "      <th>country_code</th>\n",
       "      <th>state_code</th>\n",
       "      <th>region</th>\n",
       "      <th>city</th>\n",
       "      <th>funding_rounds</th>\n",
       "      <th>first_funding_at</th>\n",
       "      <th>last_funding_at</th>\n",
       "      <th>lifetime</th>\n",
       "    </tr>\n",
       "  </thead>\n",
       "  <tbody>\n",
       "    <tr>\n",
       "      <th>0</th>\n",
       "      <td>Crystalsol</td>\n",
       "      <td>Clean Technology</td>\n",
       "      <td>2819200.0</td>\n",
       "      <td>NIC</td>\n",
       "      <td>17</td>\n",
       "      <td>NaN</td>\n",
       "      <td>NaN</td>\n",
       "      <td>1</td>\n",
       "      <td>2009-07-01</td>\n",
       "      <td>2009-07-01</td>\n",
       "      <td>3501</td>\n",
       "    </tr>\n",
       "    <tr>\n",
       "      <th>1</th>\n",
       "      <td>JBI Fish &amp; Wings</td>\n",
       "      <td>Hospitality</td>\n",
       "      <td>NaN</td>\n",
       "      <td>USA</td>\n",
       "      <td>TN</td>\n",
       "      <td>TN - Other</td>\n",
       "      <td>Humboldt</td>\n",
       "      <td>1</td>\n",
       "      <td>2010-07-28</td>\n",
       "      <td>2010-07-28</td>\n",
       "      <td>2717</td>\n",
       "    </tr>\n",
       "    <tr>\n",
       "      <th>2</th>\n",
       "      <td>COINPLUS</td>\n",
       "      <td>Finance</td>\n",
       "      <td>428257.0</td>\n",
       "      <td>LUX</td>\n",
       "      <td>3</td>\n",
       "      <td>Esch-sur-alzette</td>\n",
       "      <td>Esch-sur-alzette</td>\n",
       "      <td>2</td>\n",
       "      <td>2014-05-15</td>\n",
       "      <td>2014-09-18</td>\n",
       "      <td>1295</td>\n",
       "    </tr>\n",
       "    <tr>\n",
       "      <th>3</th>\n",
       "      <td>Imagine Communications</td>\n",
       "      <td>Software|Video|Video Streaming</td>\n",
       "      <td>34700000.0</td>\n",
       "      <td>USA</td>\n",
       "      <td>CA</td>\n",
       "      <td>San Diego</td>\n",
       "      <td>San Diego</td>\n",
       "      <td>4</td>\n",
       "      <td>2005-01-01</td>\n",
       "      <td>2010-04-20</td>\n",
       "      <td>4748</td>\n",
       "    </tr>\n",
       "    <tr>\n",
       "      <th>4</th>\n",
       "      <td>DNA13</td>\n",
       "      <td>Software</td>\n",
       "      <td>4530000.0</td>\n",
       "      <td>CAN</td>\n",
       "      <td>ON</td>\n",
       "      <td>Ottawa</td>\n",
       "      <td>Ottawa</td>\n",
       "      <td>1</td>\n",
       "      <td>2007-05-08</td>\n",
       "      <td>2007-05-08</td>\n",
       "      <td>6209</td>\n",
       "    </tr>\n",
       "    <tr>\n",
       "      <th>5</th>\n",
       "      <td>Quickfire Games</td>\n",
       "      <td>Design|Entertainment|Games</td>\n",
       "      <td>160000.0</td>\n",
       "      <td>NaN</td>\n",
       "      <td>NaN</td>\n",
       "      <td>NaN</td>\n",
       "      <td>NaN</td>\n",
       "      <td>2</td>\n",
       "      <td>2013-09-18</td>\n",
       "      <td>2014-09-18</td>\n",
       "      <td>1583</td>\n",
       "    </tr>\n",
       "    <tr>\n",
       "      <th>6</th>\n",
       "      <td>Sente Inc.</td>\n",
       "      <td>Biotechnology</td>\n",
       "      <td>26842000.0</td>\n",
       "      <td>USA</td>\n",
       "      <td>CA</td>\n",
       "      <td>San Diego</td>\n",
       "      <td>Encinitas</td>\n",
       "      <td>5</td>\n",
       "      <td>2009-01-31</td>\n",
       "      <td>2014-06-02</td>\n",
       "      <td>4018</td>\n",
       "    </tr>\n",
       "    <tr>\n",
       "      <th>7</th>\n",
       "      <td>Triosyn</td>\n",
       "      <td>Health Care|Medical|Therapeutics</td>\n",
       "      <td>4000000.0</td>\n",
       "      <td>NaN</td>\n",
       "      <td>NaN</td>\n",
       "      <td>NaN</td>\n",
       "      <td>NaN</td>\n",
       "      <td>1</td>\n",
       "      <td>2003-06-02</td>\n",
       "      <td>2003-06-02</td>\n",
       "      <td>5576</td>\n",
       "    </tr>\n",
       "    <tr>\n",
       "      <th>8</th>\n",
       "      <td>Urgent.ly</td>\n",
       "      <td>Software</td>\n",
       "      <td>8710000.0</td>\n",
       "      <td>USA</td>\n",
       "      <td>VA</td>\n",
       "      <td>Washington, D.C.</td>\n",
       "      <td>Sterling</td>\n",
       "      <td>3</td>\n",
       "      <td>2014-04-17</td>\n",
       "      <td>2015-09-29</td>\n",
       "      <td>1826</td>\n",
       "    </tr>\n",
       "    <tr>\n",
       "      <th>9</th>\n",
       "      <td>Map Decisions</td>\n",
       "      <td>Software</td>\n",
       "      <td>13200.0</td>\n",
       "      <td>USA</td>\n",
       "      <td>PA</td>\n",
       "      <td>Allentown</td>\n",
       "      <td>Bethlehem</td>\n",
       "      <td>1</td>\n",
       "      <td>2013-08-09</td>\n",
       "      <td>2013-08-09</td>\n",
       "      <td>2057</td>\n",
       "    </tr>\n",
       "  </tbody>\n",
       "</table>\n",
       "</div>"
      ],
      "text/plain": [
       "                     name                     category_list  \\\n",
       "0              Crystalsol                  Clean Technology   \n",
       "1        JBI Fish & Wings                       Hospitality   \n",
       "2                COINPLUS                           Finance   \n",
       "3  Imagine Communications    Software|Video|Video Streaming   \n",
       "4                   DNA13                          Software   \n",
       "5         Quickfire Games        Design|Entertainment|Games   \n",
       "6              Sente Inc.                     Biotechnology   \n",
       "7                 Triosyn  Health Care|Medical|Therapeutics   \n",
       "8               Urgent.ly                          Software   \n",
       "9           Map Decisions                          Software   \n",
       "\n",
       "   funding_total_usd country_code state_code            region  \\\n",
       "0          2819200.0          NIC         17               NaN   \n",
       "1                NaN          USA         TN        TN - Other   \n",
       "2           428257.0          LUX          3  Esch-sur-alzette   \n",
       "3         34700000.0          USA         CA         San Diego   \n",
       "4          4530000.0          CAN         ON            Ottawa   \n",
       "5           160000.0          NaN        NaN               NaN   \n",
       "6         26842000.0          USA         CA         San Diego   \n",
       "7          4000000.0          NaN        NaN               NaN   \n",
       "8          8710000.0          USA         VA  Washington, D.C.   \n",
       "9            13200.0          USA         PA         Allentown   \n",
       "\n",
       "               city  funding_rounds first_funding_at last_funding_at  lifetime  \n",
       "0               NaN               1       2009-07-01      2009-07-01      3501  \n",
       "1          Humboldt               1       2010-07-28      2010-07-28      2717  \n",
       "2  Esch-sur-alzette               2       2014-05-15      2014-09-18      1295  \n",
       "3         San Diego               4       2005-01-01      2010-04-20      4748  \n",
       "4            Ottawa               1       2007-05-08      2007-05-08      6209  \n",
       "5               NaN               2       2013-09-18      2014-09-18      1583  \n",
       "6         Encinitas               5       2009-01-31      2014-06-02      4018  \n",
       "7               NaN               1       2003-06-02      2003-06-02      5576  \n",
       "8          Sterling               3       2014-04-17      2015-09-29      1826  \n",
       "9         Bethlehem               1       2013-08-09      2013-08-09      2057  "
      ]
     },
     "execution_count": 9,
     "metadata": {},
     "output_type": "execute_result"
    }
   ],
   "source": [
    "test.head(10)"
   ]
  },
  {
   "cell_type": "markdown",
   "id": "92e9692a-e819-4120-b002-1f9f45853659",
   "metadata": {},
   "source": [
    "## Предобработка данных"
   ]
  },
  {
   "cell_type": "code",
   "execution_count": 10,
   "id": "fd787fe5-0676-43b8-ab97-c42c9b6a5d9e",
   "metadata": {},
   "outputs": [
    {
     "data": {
      "text/plain": [
       "np.int64(0)"
      ]
     },
     "execution_count": 10,
     "metadata": {},
     "output_type": "execute_result"
    }
   ],
   "source": [
    "train.duplicated().sum()"
   ]
  },
  {
   "cell_type": "code",
   "execution_count": 11,
   "id": "56e53703-010e-4f01-8a4e-5108a2f30da9",
   "metadata": {
    "editable": true,
    "slideshow": {
     "slide_type": ""
    },
    "tags": []
   },
   "outputs": [
    {
     "data": {
      "text/plain": [
       "52515"
      ]
     },
     "execution_count": 11,
     "metadata": {},
     "output_type": "execute_result"
    }
   ],
   "source": [
    "train['name'].nunique()"
   ]
  },
  {
   "cell_type": "code",
   "execution_count": 12,
   "id": "c7be24ea-9723-4468-97f4-1c190be59ed4",
   "metadata": {},
   "outputs": [],
   "source": [
    "train['category_list'] = train['category_list'].str.replace('|', ', ')"
   ]
  },
  {
   "cell_type": "code",
   "execution_count": 13,
   "id": "d6e368f1-bebc-48ac-9eb0-f0ae36a6bc02",
   "metadata": {},
   "outputs": [
    {
     "data": {
      "text/plain": [
       "0                Online Reservations, Restaurants\n",
       "1         Manufacturing, Medical, Medical Devices\n",
       "2                                   Biotechnology\n",
       "3                                     Health Care\n",
       "4                                   Manufacturing\n",
       "                           ...                   \n",
       "52511                               Entertainment\n",
       "52512                                 Hospitality\n",
       "52513     Email, Messaging, Productivity Software\n",
       "52514                                    Security\n",
       "52515    Online Rental, Parking, Price Comparison\n",
       "Name: category_list, Length: 52516, dtype: object"
      ]
     },
     "execution_count": 13,
     "metadata": {},
     "output_type": "execute_result"
    }
   ],
   "source": [
    "train['category_list']"
   ]
  },
  {
   "cell_type": "code",
   "execution_count": 14,
   "id": "2eacb9fd-2a5e-445d-98e6-28684f8b8afb",
   "metadata": {},
   "outputs": [
    {
     "data": {
      "text/plain": [
       "np.int64(2465)"
      ]
     },
     "execution_count": 14,
     "metadata": {},
     "output_type": "execute_result"
    }
   ],
   "source": [
    "train['category_list'].isna().sum()"
   ]
  },
  {
   "cell_type": "code",
   "execution_count": 15,
   "id": "bfa6a540-fa09-4d8f-bfc8-ea3973d0c985",
   "metadata": {},
   "outputs": [
    {
     "data": {
      "text/plain": [
       "15551"
      ]
     },
     "execution_count": 15,
     "metadata": {},
     "output_type": "execute_result"
    }
   ],
   "source": [
    "train['funding_total_usd'].nunique()"
   ]
  },
  {
   "cell_type": "code",
   "execution_count": 16,
   "id": "ca2c4881-5c72-4781-beed-db18d39df5bd",
   "metadata": {},
   "outputs": [
    {
     "data": {
      "text/plain": [
       "np.int64(10069)"
      ]
     },
     "execution_count": 16,
     "metadata": {},
     "output_type": "execute_result"
    }
   ],
   "source": [
    "train['funding_total_usd'].isna().sum()"
   ]
  },
  {
   "cell_type": "code",
   "execution_count": 17,
   "id": "f35cc03e-6136-4ebc-89be-982c79675f82",
   "metadata": {},
   "outputs": [
    {
     "data": {
      "text/plain": [
       "array(['operating', 'closed'], dtype=object)"
      ]
     },
     "execution_count": 17,
     "metadata": {},
     "output_type": "execute_result"
    }
   ],
   "source": [
    "train['status'].unique()"
   ]
  },
  {
   "cell_type": "code",
   "execution_count": 18,
   "id": "7aebcbe2-4cde-4401-b623-d7e2865e37fe",
   "metadata": {},
   "outputs": [
    {
     "data": {
      "text/plain": [
       "np.int64(0)"
      ]
     },
     "execution_count": 18,
     "metadata": {},
     "output_type": "execute_result"
    }
   ],
   "source": [
    "train['status'].isna().sum()"
   ]
  },
  {
   "cell_type": "code",
   "execution_count": 19,
   "id": "3ccb7fda-777d-461d-ab21-098fa40ee009",
   "metadata": {},
   "outputs": [
    {
     "data": {
      "text/plain": [
       "array(['ALB', 'ARE', 'ARG', 'ARM', 'AUS', 'AUT', 'AZE', 'BAH', 'BEL',\n",
       "       'BGD', 'BGR', 'BHR', 'BLM', 'BLR', 'BLZ', 'BMU', 'BRA', 'BRN',\n",
       "       'BWA', 'CAN', 'CHE', 'CHL', 'CHN', 'CMR', 'COL', 'CRI', 'CYM',\n",
       "       'CYP', 'CZE', 'DEU', 'DNK', 'DOM', 'DZA', 'ECU', 'EGY', 'ESP',\n",
       "       'EST', 'FIN', 'FRA', 'GBR', 'GEO', 'GGY', 'GHA', 'GIB', 'GRC',\n",
       "       'GRD', 'GTM', 'HKG', 'HND', 'HRV', 'HUN', 'IDN', 'IND', 'IRL',\n",
       "       'IRN', 'ISL', 'ISR', 'ITA', 'JAM', 'JEY', 'JOR', 'JPN', 'KAZ',\n",
       "       'KEN', 'KHM', 'KNA', 'KOR', 'KWT', 'LAO', 'LBN', 'LIE', 'LKA',\n",
       "       'LTU', 'LUX', 'LVA', 'MAF', 'MAR', 'MCO', 'MDA', 'MEX', 'MKD',\n",
       "       'MLT', 'MMR', 'MNE', 'MOZ', 'MUS', 'MYS', 'NGA', 'NIC', 'NLD',\n",
       "       'NOR', 'NPL', 'NZL', 'OMN', 'PAK', 'PAN', 'PER', 'PHL', 'POL',\n",
       "       'PRI', 'PRT', 'PRY', 'PSE', 'QAT', 'ROM', 'RUS', 'RWA', 'SAU',\n",
       "       'SEN', 'SGP', 'SLV', 'SOM', 'SRB', 'SVK', 'SVN', 'SWE', 'SYC',\n",
       "       'TAN', 'TGO', 'THA', 'TTO', 'TUN', 'TUR', 'TWN', 'UGA', 'UKR',\n",
       "       'URY', 'USA', 'UZB', 'VEN', 'VNM', 'ZAF', 'ZMB', 'ZWE', nan],\n",
       "      dtype=object)"
      ]
     },
     "execution_count": 19,
     "metadata": {},
     "output_type": "execute_result"
    }
   ],
   "source": [
    "train['country_code'].sort_values().unique()"
   ]
  },
  {
   "cell_type": "code",
   "execution_count": 20,
   "id": "08626a29-0a8a-43e5-8d16-2244880209ab",
   "metadata": {},
   "outputs": [
    {
     "data": {
      "text/plain": [
       "np.int64(5502)"
      ]
     },
     "execution_count": 20,
     "metadata": {},
     "output_type": "execute_result"
    }
   ],
   "source": [
    "train['country_code'].isna().sum()"
   ]
  },
  {
   "cell_type": "code",
   "execution_count": 21,
   "id": "05da0058-0e4b-4c95-8f8a-f313f1141bfd",
   "metadata": {},
   "outputs": [
    {
     "data": {
      "text/plain": [
       "array(['25', 'CA', nan, 'VA', 'NJ', 'TX', 'OR', 'FL', 'WA', 'NY', 'C7',\n",
       "       'AZ', '91', 'GA', 'MA', 'PA', 'MI', '56', 'MN', 'A8', 'DE', '26',\n",
       "       'Q5', '7', 'RI', '11', 'C5', 'CO', '3', '23', '1', 'ON', 'IL',\n",
       "       'OH', 'K2', '2', '14', '30', 'H9', 'AL', '29', '6', 'NC', '5',\n",
       "       '12', '22', 'MD', '48', 'ND', '40', 'K4', 'VT', '16', '4', 'UT',\n",
       "       'IN', '8', '9', '18', 'CT', '13', 'NV', '10', 'B8', '27', '17',\n",
       "       'IA', 'WI', 'L9', 'NM', 'B7', 'MO', 'BC', '21', 'F7', 'ME', 'NH',\n",
       "       '35', 'NS', 'C1', 'C3', 'SC', '20', 'TN', 'A6', '51', 'I7', 'LA',\n",
       "       'KS', '42', 'N7', 'U8', 'I2', 'AR', '19', 'NE', '41', 'QC', 'AB',\n",
       "       '37', '15', '97', 'V2', 'D2', 'DC', 'A7', 'C9', 'F8', 'Y2', 'B9',\n",
       "       'J7', 'M9', 'G2', 'H3', 'ID', 'NB', '28', 'V8', '34', 'B5', 'F2',\n",
       "       'A9', 'Z7', '53', 'H8', 'MT', 'MB', 'KY', '61', '60', 'B4', 'H7',\n",
       "       '82', 'A2', 'C8', 'L3', 'B3', 'D9', 'M3', 'MS', '31', '33', '52',\n",
       "       'HI', 'AK', '78', '72', 'Q4', 'Y4', 'WY', '32', 'E6', 'Q3', 'F9',\n",
       "       '24', 'OK', 'X4', '81', 'A1', '86', 'P4', 'E7', 'P9', '73', 'W5',\n",
       "       'D4', 'E9', 'A4', 'I5', 'B2', 'R3', 'N5', '59', 'K7', 'H5', 'H2',\n",
       "       'N3', 'A5', 'T5', 'G5', 'E8', 'SD', '77', '65', '36', 'WV', '68',\n",
       "       'P3', 'X5', '66', 'D8', 'C6', 'M4', '87', '71', 'J2', '83', 'E4',\n",
       "       'P8', '43', 'J6', 'L1', 'E2', 'O2', 'E5', 'F1', 'N2', 'J8', 'B6',\n",
       "       'A3', '46', 'H4', 'G7', 'Y5', 'P6', '55', 'NL', 'X7', 'P5', '54',\n",
       "       '58', 'Y7', 'R6', '47', 'U3', 'K3', '88', 'D3', '45', '49', 'F5',\n",
       "       'Y9', 'Y6', 'P1', 'I6', 'VI', 'Z1', 'I4', 'W6', 'SK', 'W1', '50',\n",
       "       'B1', 'W2', 'W9', 'N4', 'V3', 'O1', 'E1', 'T6', 'I9', 'T7', '99',\n",
       "       'N1', '39', 'P2', '57', 'V7', 'Q2', 'K8', 'F4', 'G1', '98', 'D5',\n",
       "       'V1', '38', '44', 'X1', 'J1', 'J9', 'PE', 'Q1', 'Y1', 'L6', 'G8',\n",
       "       '89', 'X3', 'T8', 'J4', '62', 'GU', 'W4', 'G3', 'L7', 'U1', 'Z8',\n",
       "       'E3', 'X2', 'M5', '90', 'M2', 'L8', 'V6', 'Q6', 'D6', 'D7', 'M8',\n",
       "       'J3', 'NU', 'V5', 'U6'], dtype=object)"
      ]
     },
     "execution_count": 21,
     "metadata": {},
     "output_type": "execute_result"
    }
   ],
   "source": [
    "train['state_code'].unique()"
   ]
  },
  {
   "cell_type": "code",
   "execution_count": 22,
   "id": "62ff0851-fbac-4b3f-bbd3-006872a4e10b",
   "metadata": {
    "scrolled": true
   },
   "outputs": [
    {
     "data": {
      "text/plain": [
       "['A Coruna',\n",
       " 'AB - Other',\n",
       " 'AK - Other',\n",
       " 'AL - Other',\n",
       " 'AR - Other',\n",
       " 'ARG - Other',\n",
       " 'ARM - Other',\n",
       " 'AUS - Other',\n",
       " 'AUT - Other',\n",
       " 'AZ - Other',\n",
       " 'AZE - Other',\n",
       " 'Aachen',\n",
       " 'Aalborg',\n",
       " 'Aarhus',\n",
       " 'Abbotsford',\n",
       " 'Aberdeen',\n",
       " 'Abu Dhabi',\n",
       " 'Abuja',\n",
       " 'Accra',\n",
       " 'Adelaide',\n",
       " 'Admiralty',\n",
       " 'Ahmedabad',\n",
       " 'Aix-en-provence',\n",
       " 'Akron - Canton',\n",
       " 'Albany, Georgia',\n",
       " 'Albany, New York',\n",
       " 'Albuquerque',\n",
       " 'Alcester',\n",
       " 'Alcorcon',\n",
       " 'Alcoy',\n",
       " 'Aldershot',\n",
       " 'Alexandria',\n",
       " 'Alfreton',\n",
       " 'Alicante',\n",
       " 'Allentown',\n",
       " 'AllerÃ¸d',\n",
       " 'Almeria',\n",
       " 'Altrincham',\n",
       " 'Amersham',\n",
       " 'Amman',\n",
       " 'Amsterdam',\n",
       " 'Anaheim',\n",
       " 'Anchorage',\n",
       " 'Ancona',\n",
       " 'Ankara',\n",
       " 'Annecy',\n",
       " 'Antwerp',\n",
       " 'Asheville',\n",
       " 'Athens',\n",
       " 'Athens, Georgia',\n",
       " 'Atlanta',\n",
       " 'Atlantic City',\n",
       " 'Auckland',\n",
       " 'Augsburg',\n",
       " 'Austin',\n",
       " 'Ayr',\n",
       " 'BC - Other',\n",
       " 'BEL - Other',\n",
       " 'BGR - Other',\n",
       " 'BHS - Other',\n",
       " 'BLM - Other',\n",
       " 'BLZ - Other',\n",
       " 'BRA - Other',\n",
       " 'BWA - Other',\n",
       " 'Baar',\n",
       " 'Bahamas',\n",
       " 'Bahrain',\n",
       " 'Bakersfield',\n",
       " 'Baku',\n",
       " 'Ballerup',\n",
       " 'Balmain',\n",
       " 'Baltimore',\n",
       " 'Banbury',\n",
       " 'Bangalore',\n",
       " 'Bangkok',\n",
       " 'Bangor',\n",
       " 'Baracaldo',\n",
       " 'Barcelona',\n",
       " 'Basel',\n",
       " 'Bath',\n",
       " 'Baton Rouge',\n",
       " 'Beaconsfield',\n",
       " 'Beijing',\n",
       " 'Beirut',\n",
       " 'Bekasi Kota',\n",
       " 'Belfast',\n",
       " 'Belgaum',\n",
       " 'Belgrade',\n",
       " 'Belize',\n",
       " 'Bellshill',\n",
       " 'Bergamo',\n",
       " 'Berlin',\n",
       " 'Bermuda',\n",
       " 'Bertrange',\n",
       " 'Bhopal',\n",
       " 'Bhubaneswar',\n",
       " 'Bialystok',\n",
       " 'Bidart',\n",
       " 'Bielefeld',\n",
       " 'Bilbao',\n",
       " 'Billings',\n",
       " 'Biloxi - Gulfport',\n",
       " 'Birkenhead',\n",
       " 'Birmingham',\n",
       " 'Bismarck',\n",
       " 'Blackrock',\n",
       " 'Bochum',\n",
       " 'Bogota',\n",
       " 'Boisbriand',\n",
       " 'Boise',\n",
       " 'Bologna',\n",
       " 'Bolton Upon Dearne',\n",
       " 'Bolzano',\n",
       " 'Bonn',\n",
       " 'Bordeaux',\n",
       " 'Borehamwood',\n",
       " 'Boston',\n",
       " 'Boston Spa',\n",
       " 'Boulogne',\n",
       " 'Bowling Green',\n",
       " 'Bozeman',\n",
       " 'Bradford',\n",
       " 'Branson',\n",
       " 'Brasilia',\n",
       " 'Bratislava',\n",
       " 'Braunschweig',\n",
       " 'Bremen',\n",
       " 'Brentford',\n",
       " 'Brescia',\n",
       " 'Bridgend',\n",
       " 'Brisbane',\n",
       " 'Bristol',\n",
       " 'Bromborough',\n",
       " 'Bromley',\n",
       " 'Brossard',\n",
       " 'Brunn Am Gebirge',\n",
       " 'Brussels',\n",
       " 'Bucharest',\n",
       " 'Budapest',\n",
       " 'Buenos Aires',\n",
       " 'Buffalo',\n",
       " 'Bundangdong',\n",
       " 'Burnaby',\n",
       " 'Burnley',\n",
       " 'Bushey',\n",
       " 'CA - Other',\n",
       " 'CAN - Other',\n",
       " 'CHE - Other',\n",
       " 'CHL - Other',\n",
       " 'CHN - Other',\n",
       " 'CMR - Other',\n",
       " 'CO - Other',\n",
       " 'COL - Other',\n",
       " 'CRI - Other',\n",
       " 'CT - Other',\n",
       " 'CYP - Other',\n",
       " 'CZE - Other',\n",
       " 'Cadiz',\n",
       " 'Caerphilly',\n",
       " 'Cagliari',\n",
       " 'Cairo',\n",
       " 'Calgary',\n",
       " 'Camberley',\n",
       " 'Camberwell South',\n",
       " 'Camborne',\n",
       " 'Campinas',\n",
       " 'Canberra',\n",
       " 'Cancun',\n",
       " 'Cape Cod',\n",
       " 'Cape Town',\n",
       " 'Cardiff',\n",
       " 'Carlisle',\n",
       " 'Carthage',\n",
       " 'Casablanca',\n",
       " 'Castelfranco Veneto',\n",
       " 'Catania',\n",
       " 'Causeway Bay',\n",
       " 'Cayman Islands',\n",
       " 'Cebu',\n",
       " 'Cedar Rapids',\n",
       " \"Champagne-au-mont-d'or\",\n",
       " 'Chandigarh',\n",
       " 'Charleston, South Carolina',\n",
       " 'Charleston, West Virginia',\n",
       " 'Charlotte',\n",
       " 'Charlottetown',\n",
       " 'Chattanooga',\n",
       " 'Cheadle Hulme',\n",
       " 'Cheltenham',\n",
       " 'Chemnitz',\n",
       " 'Chengdu',\n",
       " 'Chennai',\n",
       " 'Chester',\n",
       " 'Cheyenne',\n",
       " 'Chiang Mai',\n",
       " 'Chiasso',\n",
       " 'Chicago',\n",
       " 'Chisinau',\n",
       " 'Chongqing',\n",
       " 'Christchurch',\n",
       " 'Cincinnati',\n",
       " 'City Of London',\n",
       " 'Clapiers',\n",
       " 'Clermont-ferrand',\n",
       " 'Clevedon',\n",
       " 'Cleveland',\n",
       " 'Cluj-Napoca',\n",
       " 'Cochin',\n",
       " 'Coimbatore',\n",
       " 'Coimbra',\n",
       " 'Coleraine',\n",
       " 'Cologne',\n",
       " 'Colorado Springs',\n",
       " 'Columbia, South Carolina',\n",
       " 'Columbus, Georgia',\n",
       " 'Columbus, Ohio',\n",
       " 'Copenhagen',\n",
       " 'Corby',\n",
       " 'Cordoba',\n",
       " 'Cordoba, ARG',\n",
       " 'Cork',\n",
       " 'Corpus Christi',\n",
       " 'Costa Rica',\n",
       " 'Coventry',\n",
       " 'Crook Of Devon',\n",
       " 'Cross Hands',\n",
       " 'Curitiba',\n",
       " 'Cwmbran',\n",
       " 'Cyprus',\n",
       " 'CÃ¡ceres',\n",
       " 'DE - Other',\n",
       " 'DEU - Other',\n",
       " 'DNK - Other',\n",
       " 'DOM - Other',\n",
       " 'DZA - Other',\n",
       " 'Daegu',\n",
       " 'Daejeon',\n",
       " 'Dallas',\n",
       " 'Danderyd',\n",
       " 'Daresbury',\n",
       " 'Darlington',\n",
       " 'Dartmouth',\n",
       " 'Davao',\n",
       " 'Dayton',\n",
       " 'Daytona Beach',\n",
       " 'Delhi',\n",
       " 'Delta',\n",
       " 'Denver',\n",
       " 'Derby',\n",
       " 'Des Moines',\n",
       " 'Detroit',\n",
       " 'Dhaka',\n",
       " 'Dki Jakarta',\n",
       " 'Dnepropetrovsk',\n",
       " 'Doha',\n",
       " 'Doncaster',\n",
       " 'Dornbirn',\n",
       " 'Dortmund',\n",
       " 'Dorval',\n",
       " 'Douglas',\n",
       " 'Dover',\n",
       " 'Dresden',\n",
       " 'Dubai',\n",
       " 'Dubendorf',\n",
       " 'Dublin',\n",
       " 'Duluth',\n",
       " 'Dundee',\n",
       " 'Dunedin',\n",
       " 'Dunfermline',\n",
       " 'Durham',\n",
       " 'Dusseldrof',\n",
       " 'DÃºn Laoghaire',\n",
       " 'ECU - Other',\n",
       " 'EGY - Other',\n",
       " 'ESP - Other',\n",
       " 'EST - Other',\n",
       " 'Ecublens',\n",
       " 'Edinburgh',\n",
       " 'Edmonton',\n",
       " 'Eight Mile Plains',\n",
       " 'Eindhoven',\n",
       " 'El Paso',\n",
       " 'Elche',\n",
       " 'Ellesmere Port',\n",
       " 'Elmira',\n",
       " 'Ely',\n",
       " 'Enfield Lock',\n",
       " 'Erlangen',\n",
       " 'Ernakulam',\n",
       " 'Esch-sur-alzette',\n",
       " 'Essen',\n",
       " 'Etobicoke',\n",
       " 'Eugene',\n",
       " 'Evansville',\n",
       " 'Exeter',\n",
       " 'FIN - Other',\n",
       " 'FL - Other',\n",
       " 'FRA - Other',\n",
       " 'Fargo',\n",
       " 'Faridabad',\n",
       " 'Farnham',\n",
       " 'Farrington Gurney',\n",
       " 'Fayetteville',\n",
       " 'Finchley',\n",
       " 'Firenze',\n",
       " 'Flagstaff',\n",
       " 'Fleet',\n",
       " 'Flint',\n",
       " 'Florence',\n",
       " 'Florida Keys',\n",
       " \"Florida's Space Coast\",\n",
       " \"Florida's Treasure Coast\",\n",
       " 'Fornebu',\n",
       " 'Fort Collins',\n",
       " 'Fort Myers',\n",
       " 'Fort Wayne',\n",
       " 'Fortaleza',\n",
       " 'Frankfurt',\n",
       " 'Fredericton',\n",
       " 'Frederiksberg',\n",
       " 'Freiburg',\n",
       " 'Frensham',\n",
       " 'Fresno',\n",
       " 'Fribourg',\n",
       " 'Ft. Lauderdale',\n",
       " 'Fuzhou Shi',\n",
       " 'Fyshwick',\n",
       " 'GA - Other',\n",
       " 'GBR - Other',\n",
       " 'GGY - Other',\n",
       " 'GHA - Other',\n",
       " 'GIB - Other',\n",
       " 'GRC - Other',\n",
       " 'GRD - Other',\n",
       " 'Gainesville',\n",
       " 'Galway',\n",
       " 'Garbsen',\n",
       " 'Garching Bei Munchen',\n",
       " 'Gardanne',\n",
       " 'Gateshead',\n",
       " 'Gatineau',\n",
       " 'Gdansk',\n",
       " 'Gdynia',\n",
       " 'Geneva',\n",
       " 'Ghaziabad',\n",
       " 'Gilching',\n",
       " 'Girona',\n",
       " 'Glasgow',\n",
       " 'Glattbrugg',\n",
       " 'Goa',\n",
       " 'Gothenburg',\n",
       " 'Granada',\n",
       " 'Grand Junction',\n",
       " 'Grand Rapids',\n",
       " 'Graz',\n",
       " 'Great Missenden',\n",
       " 'Green Bay',\n",
       " 'Greensboro',\n",
       " 'Greenville - Spartanburg',\n",
       " 'Greenville, North Carolina',\n",
       " 'Grenoble',\n",
       " 'Groningen',\n",
       " 'Guadalajara',\n",
       " 'Guangdong',\n",
       " 'Guangzhou',\n",
       " 'Guatemala City',\n",
       " 'Guayaquil',\n",
       " 'Guwahati',\n",
       " 'HI - Other',\n",
       " 'HKG - Other',\n",
       " 'HND - Other',\n",
       " 'HRV - Other',\n",
       " 'HUN - Other',\n",
       " 'Hagerstown',\n",
       " 'Haifa',\n",
       " 'Hainan',\n",
       " 'Halifax',\n",
       " 'Halle An Der Saale',\n",
       " 'Halle-neustadt',\n",
       " 'Hamburg',\n",
       " 'Hamilton',\n",
       " 'Hangzhou',\n",
       " 'Hanoi',\n",
       " 'Hanover',\n",
       " 'Harare',\n",
       " 'Harbin',\n",
       " 'Harlingen',\n",
       " 'Harrisburg',\n",
       " 'Harrogate',\n",
       " 'Harrow On The Hill',\n",
       " 'Hartford',\n",
       " 'Haryana',\n",
       " 'Hawaii - Big Island',\n",
       " 'Haywards Heath',\n",
       " 'Heathrow',\n",
       " 'Hefei',\n",
       " 'Heilbronn',\n",
       " 'Helena',\n",
       " 'Helsinki',\n",
       " 'Henley On Thames',\n",
       " 'Hereford',\n",
       " 'Herisau',\n",
       " 'Herlev',\n",
       " 'Herzogenaurach',\n",
       " 'Hilton Head Island',\n",
       " 'Ho Chi Minh',\n",
       " 'Hobart Town',\n",
       " 'Homburg',\n",
       " 'Hong Kong',\n",
       " 'Honolulu',\n",
       " 'Houston',\n",
       " 'Hove',\n",
       " 'Huddersfield',\n",
       " 'Hungerford',\n",
       " 'Huntsville',\n",
       " 'Hyderabad',\n",
       " 'HÃ¸rsholm',\n",
       " 'IA - Other',\n",
       " 'ID - Other',\n",
       " 'IDN - Other',\n",
       " 'IL - Other',\n",
       " 'IN - Other',\n",
       " 'IND - Other',\n",
       " 'IRL - Other',\n",
       " 'IRN - Other',\n",
       " 'ISL - Other',\n",
       " 'ISR - Other',\n",
       " 'ITA - Other',\n",
       " 'Iasi',\n",
       " 'Idaho Falls',\n",
       " 'Igualada',\n",
       " 'Ilford',\n",
       " 'Illkirch-graffenstaden',\n",
       " 'Incheon',\n",
       " 'Indianapolis',\n",
       " 'Indore',\n",
       " 'Innsbruck',\n",
       " 'IoÃ¡nnina',\n",
       " 'Islamabad',\n",
       " 'Ismaning',\n",
       " 'Istanbul',\n",
       " 'ItÃ¡',\n",
       " 'Ivry-sur-seine',\n",
       " 'Izmir',\n",
       " 'JAM - Other',\n",
       " 'JPN - Other',\n",
       " 'Jabalpur',\n",
       " 'Jackson',\n",
       " 'Jacksonville',\n",
       " 'Jaipur',\n",
       " 'Jakarta',\n",
       " 'Jakarta Pusat',\n",
       " 'Jeddah',\n",
       " 'Jena',\n",
       " 'Jerusalem',\n",
       " 'Jinan',\n",
       " 'Jodhpur',\n",
       " 'Johannesburg',\n",
       " 'Jonkoping',\n",
       " 'Jounie',\n",
       " 'JyvÃ¤skylÃ¤',\n",
       " 'KAZ - Other',\n",
       " 'KEN - Other',\n",
       " 'KHM - Other',\n",
       " 'KNA - Other',\n",
       " 'KOR - Other',\n",
       " 'KS - Other',\n",
       " 'KY - Other',\n",
       " 'Kalamazoo',\n",
       " 'Kampala',\n",
       " 'Kanata',\n",
       " 'Kanpur',\n",
       " 'Kansas City',\n",
       " 'Karachi',\n",
       " 'Karlskrona',\n",
       " 'Kassel',\n",
       " 'Kathmandu',\n",
       " 'Katowice',\n",
       " 'Kaunas',\n",
       " 'Kazan',\n",
       " 'Kelowna',\n",
       " 'Kent',\n",
       " 'Kharkov',\n",
       " 'Kiev',\n",
       " 'Kigali',\n",
       " 'Kilkenny',\n",
       " 'Kingston',\n",
       " 'Kingston Upon Thames',\n",
       " 'Knoxville',\n",
       " 'Knutsford',\n",
       " 'Kochi',\n",
       " 'Kolbermoor',\n",
       " 'Kolding',\n",
       " 'Kolkata',\n",
       " 'Konya',\n",
       " 'Kosice',\n",
       " 'Krakow',\n",
       " 'Kristiansand',\n",
       " 'Kuala Lumpur',\n",
       " 'Kunshan',\n",
       " 'Kyoto',\n",
       " 'LA - Other',\n",
       " 'LAO - Other',\n",
       " 'LBN - Other',\n",
       " 'LIE - Other',\n",
       " 'LTU - Other',\n",
       " 'LUX - Other',\n",
       " 'LVA - Other',\n",
       " 'La Rochelle',\n",
       " 'LabÃ¨ge',\n",
       " 'Lachine',\n",
       " 'Lafayette, Louisiana',\n",
       " 'Lagos',\n",
       " 'Lahore',\n",
       " 'Lake Tahoe',\n",
       " 'Lancaster',\n",
       " 'Landshut',\n",
       " 'Lannion',\n",
       " 'Lansing',\n",
       " 'Lappeenranta',\n",
       " 'Las Palmas De Gran Canaria',\n",
       " 'Las Vegas',\n",
       " 'Lausanne',\n",
       " 'Le Plessis-robinson',\n",
       " 'Leamington Spa',\n",
       " 'Leeds',\n",
       " 'Leganes',\n",
       " 'Leicester',\n",
       " 'Leipzig',\n",
       " 'Leon',\n",
       " 'Leonberg',\n",
       " 'Levis',\n",
       " 'Lexington',\n",
       " 'Lima',\n",
       " 'Limerick',\n",
       " 'Limoges',\n",
       " 'Linkoping',\n",
       " 'Linlithgow',\n",
       " 'Linz',\n",
       " 'Lisbon',\n",
       " 'Little Rock',\n",
       " 'Liverpool',\n",
       " 'Livingston',\n",
       " 'Ljubljana',\n",
       " 'Logrono',\n",
       " 'London',\n",
       " 'Long Island',\n",
       " 'Los Angeles',\n",
       " 'Los Cabos',\n",
       " 'Loughborough',\n",
       " 'Louisville',\n",
       " 'Lubbock',\n",
       " 'Lucca',\n",
       " 'Ludhiana',\n",
       " 'Lugano',\n",
       " 'Lulea',\n",
       " 'Luxemburg',\n",
       " 'Luzern',\n",
       " 'Lviv',\n",
       " 'Lymington',\n",
       " 'Lyngby',\n",
       " 'Lyon',\n",
       " 'Lysaker',\n",
       " 'MA - Other',\n",
       " 'MAF - Other',\n",
       " 'MB - Other',\n",
       " 'MD - Other',\n",
       " 'MDA - Other',\n",
       " 'ME - Other',\n",
       " 'MEX - Other',\n",
       " 'MI - Other',\n",
       " 'MN - Other',\n",
       " 'MNE - Other',\n",
       " 'MO - Other',\n",
       " 'MOZ - Other',\n",
       " 'MS - Other',\n",
       " 'MT - Other',\n",
       " 'MUS - Other',\n",
       " 'MYS - Other',\n",
       " 'Macclesfield',\n",
       " 'Macon',\n",
       " 'Madhapur',\n",
       " 'Madison',\n",
       " 'Madrid',\n",
       " 'Madurai',\n",
       " 'Malaga',\n",
       " 'Malakoff',\n",
       " 'Malmo',\n",
       " 'Malta',\n",
       " 'Malvern Wells',\n",
       " 'Manaus',\n",
       " 'Manchester',\n",
       " 'Manchester, New Hampshire',\n",
       " 'Mangalore',\n",
       " 'Manila',\n",
       " 'Mannheim',\n",
       " 'Marbella',\n",
       " 'Marlborough',\n",
       " 'Marseille',\n",
       " 'Martinsried',\n",
       " 'Maui',\n",
       " 'Mauritius',\n",
       " 'Medellin',\n",
       " 'Medford',\n",
       " 'Melbourn',\n",
       " 'Melbourne',\n",
       " 'Memphis',\n",
       " 'Mendoza, ARG',\n",
       " 'Mexico City',\n",
       " 'Miami',\n",
       " 'Middlesbrough',\n",
       " 'Milan',\n",
       " 'Milwaukee',\n",
       " 'Minneapolis',\n",
       " 'Minsk',\n",
       " 'Missoula',\n",
       " 'Mobile',\n",
       " 'Modena',\n",
       " 'Mohali',\n",
       " 'Moline - Davenport',\n",
       " 'Moncton',\n",
       " 'Monheim',\n",
       " 'Monterey',\n",
       " 'Monterrey',\n",
       " 'Montevideo',\n",
       " 'Montgomery',\n",
       " 'Montpelier',\n",
       " 'Montpellier',\n",
       " 'Montreal',\n",
       " 'Montreuil',\n",
       " 'Moscow',\n",
       " 'Muenchen',\n",
       " 'Mulgrave',\n",
       " 'Mumbai',\n",
       " 'Munich',\n",
       " 'Munster',\n",
       " 'Murcia',\n",
       " 'Muscat',\n",
       " 'Myrtle Beach',\n",
       " 'Mysore',\n",
       " 'NB - Other',\n",
       " 'NC - Other',\n",
       " 'ND - Other',\n",
       " 'NE - Other',\n",
       " 'NGA - Other',\n",
       " 'NH - Other',\n",
       " 'NJ - Other',\n",
       " 'NLD - Other',\n",
       " 'NM - Other',\n",
       " 'NOR - Other',\n",
       " 'NS - Other',\n",
       " 'NV - Other',\n",
       " 'NY - Other',\n",
       " 'NZL - Other',\n",
       " 'Nagpur',\n",
       " 'Nairobi',\n",
       " 'Nanjing',\n",
       " 'Nantes',\n",
       " 'Napa Valley',\n",
       " 'Naples',\n",
       " 'Naples, Florida',\n",
       " 'Napoli',\n",
       " 'Nashville',\n",
       " 'Nasik',\n",
       " 'Netanya',\n",
       " 'Neuilly-sur-seine',\n",
       " 'New Bedford',\n",
       " 'New Delhi',\n",
       " 'New Orleans',\n",
       " 'New Westminster',\n",
       " 'New York City',\n",
       " 'Newark',\n",
       " 'Newbury',\n",
       " 'Newcastle',\n",
       " 'Newport',\n",
       " 'Newton-le-willows',\n",
       " 'Nice',\n",
       " 'Norfolk - Virginia Beach',\n",
       " 'Norrkoping',\n",
       " 'Northampton',\n",
       " 'Nottingham',\n",
       " 'Novosibirsk',\n",
       " 'NoÃ¡in',\n",
       " 'Nuneaton',\n",
       " 'Nuremberg',\n",
       " 'Nyon',\n",
       " 'OH - Other',\n",
       " 'OK - Other',\n",
       " 'ON - Other',\n",
       " 'OR - Other',\n",
       " 'Odense',\n",
       " 'Odessa',\n",
       " 'Oklahoma City',\n",
       " 'Oldbury',\n",
       " 'Omaha',\n",
       " 'Omsk',\n",
       " 'Ontario - Inland Empire',\n",
       " 'Orange County, California',\n",
       " 'Orlando',\n",
       " 'Orleans',\n",
       " 'Orpington',\n",
       " 'Orsay',\n",
       " 'Osaka',\n",
       " 'Osijek',\n",
       " 'Oslo',\n",
       " 'Ottawa',\n",
       " 'Oulu',\n",
       " 'Oxton',\n",
       " 'PA - Other',\n",
       " 'PAK - Other',\n",
       " 'PER - Other',\n",
       " 'PHL - Other',\n",
       " 'POL - Other',\n",
       " 'PRI - Other',\n",
       " 'PRT - Other',\n",
       " 'PRY - Other',\n",
       " 'Paignton',\n",
       " 'Paisley',\n",
       " 'Palermo',\n",
       " 'Palm Beaches',\n",
       " 'Palm Springs',\n",
       " 'Palma De Mallorca',\n",
       " 'Panama City',\n",
       " 'Paris',\n",
       " 'Parma',\n",
       " 'Passau',\n",
       " 'Paterna De Rivera',\n",
       " 'Pavia',\n",
       " 'Penang',\n",
       " 'Pensacola',\n",
       " 'Peoria',\n",
       " 'Perm',\n",
       " 'Perth',\n",
       " 'Pescara',\n",
       " 'Pessac',\n",
       " 'Peterborough',\n",
       " 'Philadelphia',\n",
       " 'Phnom Penh',\n",
       " 'Phoenix',\n",
       " 'Phuket',\n",
       " 'Pisa',\n",
       " 'Pittsburgh',\n",
       " 'Plymouth',\n",
       " 'Pontypridd',\n",
       " 'Poole',\n",
       " 'Portland, Maine',\n",
       " 'Portland, Oregon',\n",
       " 'Porto',\n",
       " 'Porto Alegre',\n",
       " 'Portsmouth',\n",
       " 'Poznan',\n",
       " 'Pozuelo De Alarcon',\n",
       " 'Prague',\n",
       " 'Preston',\n",
       " 'Providence',\n",
       " 'Puerto Rico',\n",
       " 'Pune',\n",
       " 'Puteaux',\n",
       " 'QC - Other',\n",
       " 'Quarry Bay',\n",
       " 'Quebec City',\n",
       " 'Quito',\n",
       " 'RI - Other',\n",
       " 'ROM - Other',\n",
       " 'RUS - Other',\n",
       " 'Raleigh',\n",
       " 'Recife',\n",
       " 'Red Deer',\n",
       " 'Regensburg',\n",
       " 'Reigate',\n",
       " 'Reinach',\n",
       " 'Rennes',\n",
       " 'Reno - Sparks',\n",
       " 'Reyjavik',\n",
       " 'Richmond',\n",
       " 'Riga',\n",
       " 'Rio de Janeiro',\n",
       " 'Riyadh',\n",
       " 'Roanoke',\n",
       " 'Rochester, Minnesota',\n",
       " 'Rochester, New York',\n",
       " 'Rockford',\n",
       " 'Rome',\n",
       " 'Roncade',\n",
       " 'Rostock',\n",
       " 'Roswell',\n",
       " 'Rotherham',\n",
       " 'Rotterdam',\n",
       " 'Roubaix',\n",
       " 'Royston',\n",
       " 'Rugby',\n",
       " 'Runcorn',\n",
       " 'SAU - Other',\n",
       " 'SC - Other',\n",
       " 'SD - Other',\n",
       " 'SEN - Other',\n",
       " 'SF Bay Area',\n",
       " 'SK - Other',\n",
       " 'SLV - Other',\n",
       " 'SOM - Other',\n",
       " 'SRB - Other',\n",
       " 'SVK - Other',\n",
       " 'SVN - Other',\n",
       " 'SWE - Other',\n",
       " 'Sacramento',\n",
       " 'Sacramento Valley',\n",
       " 'Saint-laurent',\n",
       " 'Salem, Oregon',\n",
       " 'Salford',\n",
       " 'Salisbury',\n",
       " 'Salmiya',\n",
       " 'Salt Lake City',\n",
       " 'Salzburg',\n",
       " 'San Antonio',\n",
       " 'San Casciano Val Di Pesa',\n",
       " 'San Cristobal De La Laguna',\n",
       " 'San Diego',\n",
       " 'San Luis Obispo',\n",
       " 'San Salvador',\n",
       " 'San SebastiÃ¡n De Los Reyes',\n",
       " 'Sandnes',\n",
       " 'Sandvika',\n",
       " 'Sant Cugat Del VallÃ¨s',\n",
       " 'Santa Barbara',\n",
       " 'Santa Cruz De Tenerife',\n",
       " 'Santander',\n",
       " 'Santiago',\n",
       " 'Sao Paulo',\n",
       " 'Sarasota - Bradenton',\n",
       " 'Sarnen',\n",
       " 'Saskatoon',\n",
       " 'Savannah',\n",
       " 'Schlieren',\n",
       " 'Scranton',\n",
       " 'Seattle',\n",
       " 'Secunderabad',\n",
       " 'Seminole',\n",
       " 'Seongnam',\n",
       " 'Seoul',\n",
       " 'Seville',\n",
       " 'Seychelles',\n",
       " 'Shandong',\n",
       " 'Shanghai',\n",
       " 'Sheffield',\n",
       " 'Shenyang',\n",
       " 'Shenzhen',\n",
       " 'Sherwood Park',\n",
       " 'Sheung Wan',\n",
       " 'Shreveport',\n",
       " 'Simferopol',\n",
       " 'Singapore',\n",
       " 'Sioux Falls',\n",
       " 'Sittingbourne',\n",
       " 'Skopje',\n",
       " 'Sligo',\n",
       " 'Snodland',\n",
       " 'Sofia',\n",
       " 'Solihull',\n",
       " 'Sophia Antipolis',\n",
       " 'South Bend',\n",
       " 'Split',\n",
       " 'Spokane',\n",
       " 'Springfield',\n",
       " 'Springfield, Illinois',\n",
       " 'Sri Lanka',\n",
       " 'St. Cloud',\n",
       " \"St. John's\",\n",
       " 'St. Louis',\n",
       " 'St. Petersburg',\n",
       " 'Stafford',\n",
       " 'Staines-upon-thames',\n",
       " 'Stalybridge',\n",
       " 'Stanmore',\n",
       " 'Starnberg',\n",
       " 'State College',\n",
       " 'Stavanger',\n",
       " 'Steinhausen',\n",
       " 'Stirling',\n",
       " 'Stockholm',\n",
       " 'Stockport',\n",
       " 'Stockton-on-tees',\n",
       " 'Stoke-on-trent',\n",
       " 'Stourbridge',\n",
       " 'Strasbourg',\n",
       " 'Strassen',\n",
       " 'Stuttgart',\n",
       " 'Sunderland Bridge',\n",
       " 'Sundsvall',\n",
       " 'Surabaya',\n",
       " 'Surat',\n",
       " 'Surbiton',\n",
       " 'Surrey',\n",
       " 'Sutton Coldfield',\n",
       " 'Sutton Saint James',\n",
       " 'Swansea',\n",
       " 'Swindon',\n",
       " 'Sydney',\n",
       " 'Syracuse',\n",
       " 'Szczecin',\n",
       " 'TGO - Other',\n",
       " 'THA - Other',\n",
       " 'TN - Other',\n",
       " 'TTO - Other',\n",
       " 'TUN - Other',\n",
       " 'TUR - Other',\n",
       " 'TX - Other',\n",
       " 'TZA - Other',\n",
       " 'Taastrup',\n",
       " 'Taiwan',\n",
       " 'Tallahassee',\n",
       " 'Tallinn',\n",
       " 'Tampa',\n",
       " 'Tampere',\n",
       " 'Tarragona',\n",
       " 'Tashkent',\n",
       " 'Tasmania',\n",
       " 'Taunton',\n",
       " 'Tbilisi',\n",
       " 'Teddington',\n",
       " 'Tel Aviv',\n",
       " 'Terrassa',\n",
       " 'Tewkesbury',\n",
       " 'Thane',\n",
       " 'The Hague',\n",
       " 'ThessalonÃ\\xadki',\n",
       " 'Thiruvananthapuram',\n",
       " 'Thrissur',\n",
       " 'Thunder Bay',\n",
       " 'Tianjin',\n",
       " 'Timisoara',\n",
       " 'Tirana',\n",
       " 'Tokyo',\n",
       " 'Toledo',\n",
       " 'Topeka',\n",
       " 'Toronto',\n",
       " 'Toulouse',\n",
       " 'Tralee',\n",
       " 'Traverse City',\n",
       " 'Trento',\n",
       " 'Trenton',\n",
       " 'Trivandrum',\n",
       " 'Tromso',\n",
       " 'Trondheim',\n",
       " 'Trowbridge',\n",
       " 'Truro',\n",
       " 'Tucson',\n",
       " 'Tulsa',\n",
       " 'Tunbridge Wells',\n",
       " 'Tunis',\n",
       " 'Tupelo',\n",
       " 'Turin',\n",
       " 'Turku',\n",
       " 'Twickenham',\n",
       " 'UGA - Other',\n",
       " 'UKR - Other',\n",
       " 'UT - Other',\n",
       " 'Udupi',\n",
       " 'Ulm',\n",
       " 'Umea',\n",
       " 'Unterhaching',\n",
       " 'Utrecht',\n",
       " 'Uxbridge',\n",
       " 'VA - Other',\n",
       " 'VNM - Other',\n",
       " 'VT - Other',\n",
       " 'Vadodara',\n",
       " 'Vail',\n",
       " 'Valencia',\n",
       " 'Valladolid',\n",
       " 'Vancouver',\n",
       " 'Vantaa',\n",
       " 'Vejle',\n",
       " 'Vellore',\n",
       " 'Venice',\n",
       " 'Verona',\n",
       " 'Vevey',\n",
       " 'Victoria',\n",
       " 'Vienna',\n",
       " 'Vijayawada',\n",
       " 'Villeurbanne',\n",
       " 'Vilnius',\n",
       " 'WA - Other',\n",
       " 'WI - Other',\n",
       " 'WV - Other',\n",
       " 'WY - Other',\n",
       " 'Wan Chai',\n",
       " 'Warrington',\n",
       " 'Warsaw',\n",
       " 'Warwick',\n",
       " 'Washington, D.C.',\n",
       " 'Waterloo',\n",
       " 'Watford',\n",
       " 'Wellingborough',\n",
       " 'Wellington',\n",
       " 'Welwyn Garden City',\n",
       " 'Wembley',\n",
       " 'West End',\n",
       " 'Westmount',\n",
       " 'Wetherby',\n",
       " 'Wetzlar',\n",
       " ...]"
      ]
     },
     "execution_count": 22,
     "metadata": {},
     "output_type": "execute_result"
    }
   ],
   "source": [
    "train['region'].sort_values().unique().tolist()"
   ]
  },
  {
   "cell_type": "code",
   "execution_count": 23,
   "id": "bf2acb6a-3403-41ab-873a-30c816782d85",
   "metadata": {},
   "outputs": [
    {
     "data": {
      "text/plain": [
       "array(['Zürich', 'Redwood City', 'San Jose', ..., 'Circleville',\n",
       "       'Doncaster', 'Centreville'], shape=(4478,), dtype=object)"
      ]
     },
     "execution_count": 23,
     "metadata": {},
     "output_type": "execute_result"
    }
   ],
   "source": [
    "train['city'].unique()"
   ]
  },
  {
   "cell_type": "code",
   "execution_count": 24,
   "id": "f6af7666-8bcf-44b4-896a-e85e9029f04a",
   "metadata": {},
   "outputs": [
    {
     "data": {
      "text/plain": [
       "array([ 2,  4,  3,  1,  5,  7,  9,  6,  8, 10, 11, 12, 15, 13, 16, 17, 14,\n",
       "       18, 19])"
      ]
     },
     "execution_count": 24,
     "metadata": {},
     "output_type": "execute_result"
    }
   ],
   "source": [
    "train['funding_rounds'].unique()"
   ]
  },
  {
   "cell_type": "code",
   "execution_count": 25,
   "id": "95d5e8af-5892-44ae-a248-d1b48f947416",
   "metadata": {},
   "outputs": [
    {
     "data": {
      "text/plain": [
       "array(['1970-02-05', '1970-06-04', '1971-01-01', ..., '2015-12-23',\n",
       "       '2016-01-01', '2016-04-02'], shape=(5402,), dtype=object)"
      ]
     },
     "execution_count": 25,
     "metadata": {},
     "output_type": "execute_result"
    }
   ],
   "source": [
    "train['founded_at'].sort_values(ascending = True).unique()"
   ]
  },
  {
   "cell_type": "code",
   "execution_count": 26,
   "id": "ea5a4c0a-53db-4f38-bc03-38cb9c0fcd6b",
   "metadata": {},
   "outputs": [
    {
     "data": {
      "text/plain": [
       "array(['1977-05-15', '1979-01-01', '1982-03-20', ..., '2015-12-03',\n",
       "       '2015-12-04', '2015-12-05'], shape=(4603,), dtype=object)"
      ]
     },
     "execution_count": 26,
     "metadata": {},
     "output_type": "execute_result"
    }
   ],
   "source": [
    "train['first_funding_at'].sort_values(ascending = True).unique()"
   ]
  },
  {
   "cell_type": "code",
   "execution_count": 27,
   "id": "f9157abc-8b04-44b4-8b10-85a00a8274fa",
   "metadata": {},
   "outputs": [
    {
     "data": {
      "text/plain": [
       "array(['1977-05-15', '1979-01-01', '1982-03-20', ..., '2015-12-04',\n",
       "       '2015-12-05', '2015-12-07'], shape=(4305,), dtype=object)"
      ]
     },
     "execution_count": 27,
     "metadata": {},
     "output_type": "execute_result"
    }
   ],
   "source": [
    "train['last_funding_at'].sort_values(ascending = True).unique()"
   ]
  },
  {
   "cell_type": "code",
   "execution_count": 28,
   "id": "8ead5ce1-447b-4511-b27b-4a6510076223",
   "metadata": {},
   "outputs": [
    {
     "data": {
      "text/plain": [
       "array(['1983-10-06', '1983-12-14', '1985-05-19', ..., '2017-10-11',\n",
       "       '2017-10-21', nan], shape=(3009,), dtype=object)"
      ]
     },
     "execution_count": 28,
     "metadata": {},
     "output_type": "execute_result"
    }
   ],
   "source": [
    "train['closed_at'].sort_values(ascending = True).unique()"
   ]
  },
  {
   "cell_type": "markdown",
   "id": "80255e4f-efec-4c5e-b4c2-ce20906bbecc",
   "metadata": {},
   "source": [
    "<div class=\"alert alert-info\" style=\"border-radius: 15px; box-shadow: 4px 4px 4px; border: 1px solid \">\n",
    "    \n",
    "В условии задачи сказано, что нужно проанализировать данные с 1980 года, но в столбце founded_at есть компании, которые основаны ранее указанного срока, следовательно необходимо избавиться от них.   \n",
    "</div>"
   ]
  },
  {
   "cell_type": "code",
   "execution_count": 29,
   "id": "1cad6eb8-e7ae-4326-b90b-b77222780d0c",
   "metadata": {},
   "outputs": [],
   "source": [
    "train = train.query('founded_at >= \"1980-01-01\"')"
   ]
  },
  {
   "cell_type": "code",
   "execution_count": 30,
   "id": "b7b434c5-fc8f-414f-a06f-b521eac895ab",
   "metadata": {},
   "outputs": [
    {
     "data": {
      "text/plain": [
       "array(['1980-01-01', '1980-05-01', '1980-09-19', ..., '2015-12-23',\n",
       "       '2016-01-01', '2016-04-02'], shape=(5374,), dtype=object)"
      ]
     },
     "execution_count": 30,
     "metadata": {},
     "output_type": "execute_result"
    }
   ],
   "source": [
    "train['founded_at'].sort_values(ascending = True).unique()"
   ]
  },
  {
   "cell_type": "code",
   "execution_count": 31,
   "id": "e8ac04a1-18ab-426d-841d-6b064a3c5aa6",
   "metadata": {},
   "outputs": [
    {
     "data": {
      "text/plain": [
       "array(['1982-03-20', '1982-12-01', '1983-06-01', ..., '2015-12-03',\n",
       "       '2015-12-04', '2015-12-05'], shape=(4586,), dtype=object)"
      ]
     },
     "execution_count": 31,
     "metadata": {},
     "output_type": "execute_result"
    }
   ],
   "source": [
    "train['first_funding_at'].sort_values(ascending = True).unique()"
   ]
  },
  {
   "cell_type": "code",
   "execution_count": 32,
   "id": "f5319557-803d-45d6-9a30-279989601048",
   "metadata": {},
   "outputs": [
    {
     "data": {
      "text/plain": [
       "array(['1982-03-20', '1982-12-01', '1983-06-01', ..., '2015-12-04',\n",
       "       '2015-12-05', '2015-12-07'], shape=(4289,), dtype=object)"
      ]
     },
     "execution_count": 32,
     "metadata": {},
     "output_type": "execute_result"
    }
   ],
   "source": [
    "train['last_funding_at'].sort_values(ascending = True).unique()"
   ]
  },
  {
   "cell_type": "markdown",
   "id": "93aecbd8-b5e4-4c18-ae21-98f2f8d06b87",
   "metadata": {},
   "source": [
    "<div class=\"alert alert-success\" style=\"border-radius: 15px; box-shadow: 4px 4px 4px; border: 1px solid \">\n",
    "    \n",
    "Несостыковок в датах нет. ✔️\n",
    "</div>"
   ]
  },
  {
   "cell_type": "markdown",
   "id": "ad369939-e55e-42fe-9b29-2344c1983166",
   "metadata": {},
   "source": [
    "<div class=\"alert alert-info\" style=\"border-radius: 15px; box-shadow: 4px 4px 4px; border: 1px solid \">\n",
    "    \n",
    "Далее можно попробовать восстановить информацию о регионах и кодах страны по формуле:\n",
    "Если известен код страны, то регион (код - Other).\n",
    "А если регион известен, то и страну можно найти.\n",
    "</div>"
   ]
  },
  {
   "cell_type": "code",
   "execution_count": 33,
   "id": "1791db4b-837f-46b3-99db-5609d440c5b1",
   "metadata": {},
   "outputs": [],
   "source": [
    "df = train.copy().query('@pd.isna(region) and @pd.notna(country_code)')"
   ]
  },
  {
   "cell_type": "code",
   "execution_count": 34,
   "id": "976f9d52-5a7f-40c7-a9ce-9bcfc725c90b",
   "metadata": {},
   "outputs": [],
   "source": [
    "df_rest = train.copy().query('not (@pd.isna(region) and @pd.notna(country_code))')"
   ]
  },
  {
   "cell_type": "code",
   "execution_count": 35,
   "id": "f5a13a9d-98fb-45ac-a529-62adc3b3dc0e",
   "metadata": {},
   "outputs": [],
   "source": [
    "df['region'] = df['country_code'] + ' - Other'"
   ]
  },
  {
   "cell_type": "code",
   "execution_count": 36,
   "id": "165deeb4-fc2b-4f22-a659-f3faa9d040f0",
   "metadata": {},
   "outputs": [],
   "source": [
    "train = pd.concat([df, df_rest]).reset_index(drop=True)"
   ]
  },
  {
   "cell_type": "code",
   "execution_count": 37,
   "id": "269e6175-f2eb-45ee-8386-6537a5958ec5",
   "metadata": {},
   "outputs": [
    {
     "data": {
      "text/html": [
       "<div>\n",
       "<style scoped>\n",
       "    .dataframe tbody tr th:only-of-type {\n",
       "        vertical-align: middle;\n",
       "    }\n",
       "\n",
       "    .dataframe tbody tr th {\n",
       "        vertical-align: top;\n",
       "    }\n",
       "\n",
       "    .dataframe thead th {\n",
       "        text-align: right;\n",
       "    }\n",
       "</style>\n",
       "<table border=\"1\" class=\"dataframe\">\n",
       "  <thead>\n",
       "    <tr style=\"text-align: right;\">\n",
       "      <th></th>\n",
       "      <th>name</th>\n",
       "      <th>category_list</th>\n",
       "      <th>funding_total_usd</th>\n",
       "      <th>status</th>\n",
       "      <th>country_code</th>\n",
       "      <th>state_code</th>\n",
       "      <th>region</th>\n",
       "      <th>city</th>\n",
       "      <th>funding_rounds</th>\n",
       "      <th>founded_at</th>\n",
       "      <th>first_funding_at</th>\n",
       "      <th>last_funding_at</th>\n",
       "      <th>closed_at</th>\n",
       "    </tr>\n",
       "  </thead>\n",
       "  <tbody>\n",
       "  </tbody>\n",
       "</table>\n",
       "</div>"
      ],
      "text/plain": [
       "Empty DataFrame\n",
       "Columns: [name, category_list, funding_total_usd, status, country_code, state_code, region, city, funding_rounds, founded_at, first_funding_at, last_funding_at, closed_at]\n",
       "Index: []"
      ]
     },
     "execution_count": 37,
     "metadata": {},
     "output_type": "execute_result"
    }
   ],
   "source": [
    "train.query('@pd.isna(region) and @pd.notna(country_code)')"
   ]
  },
  {
   "cell_type": "markdown",
   "id": "c90caf83-70be-41b9-98e3-c48b534eabab",
   "metadata": {},
   "source": [
    "<div class=\"alert alert-success\" style=\"border-radius: 15px; box-shadow: 4px 4px 4px; border: 1px solid \">\n",
    "    \n",
    "Данные о коде страны, регионе или городе были заполнены насколько возможно ✔️\n",
    "</div>"
   ]
  },
  {
   "cell_type": "markdown",
   "id": "779b27e7-36bd-439c-b353-8dc2e3153af2",
   "metadata": {},
   "source": [
    "<div class=\"alert alert-info\" style=\"border-radius: 15px; box-shadow: 4px 4px 4px; border: 1px solid \">\n",
    "    \n",
    "Необходимо классифицировать деятельность компаний.\n",
    "\n",
    "Для этого был сделан счетчик уникальных названий, и те значения, который встречались чаще всего были вставлены в функцию. Таким образом было получено 18 основных категорий + пропуски.\n",
    "</div>"
   ]
  },
  {
   "cell_type": "code",
   "execution_count": 38,
   "id": "64198ea0-6266-4b38-bb44-7ca60248009e",
   "metadata": {},
   "outputs": [],
   "source": [
    "def categorize_list(row):\n",
    "    try:\n",
    "        if 'Software' in row:\n",
    "            return 'Software'\n",
    "        elif 'Biotechnology' in row:\n",
    "            return 'Biotechnology'\n",
    "        elif 'Mobile' in row:\n",
    "            return 'Mobile'\n",
    "        elif 'App' in row:\n",
    "            return 'App'\n",
    "        elif 'Analytics' in row:\n",
    "            return 'Analytics'\n",
    "        elif 'E-Commerce' in row:\n",
    "            return 'E-Commerce'\n",
    "        elif 'Clean Technology' in row:\n",
    "            return 'Clean Technology'\n",
    "        elif 'Curated Web' in row:\n",
    "            return 'Curated Web'\n",
    "        elif 'Manufacturing' in row:\n",
    "            return 'Manufacturing'\n",
    "        elif 'Advertising' in row:\n",
    "            return 'Advertising'\n",
    "        elif 'Education' in row:\n",
    "            return 'Education'\n",
    "        elif 'Semiconductors' in row:\n",
    "            return 'Semiconductors'\n",
    "        elif 'Finance' in row:\n",
    "            return 'Finance'\n",
    "        elif 'Real Estate' in row:\n",
    "            return 'Real Estate'\n",
    "        elif 'Social Media' in row:\n",
    "            return 'Social Media'\n",
    "        elif 'Consulting' in row:\n",
    "            return 'Consulting'\n",
    "        elif 'Security' in row:\n",
    "            return 'Security'\n",
    "        elif 'Games' or 'Game' in row:\n",
    "            return 'Games'\n",
    "        else:\n",
    "            return row\n",
    "    except:\n",
    "        pass"
   ]
  },
  {
   "cell_type": "code",
   "execution_count": 39,
   "id": "dcc317d1-edee-4244-a0f7-1cc1e2e8dae5",
   "metadata": {},
   "outputs": [],
   "source": [
    "train['cat_list'] = train['category_list'].apply(categorize_list)"
   ]
  },
  {
   "cell_type": "code",
   "execution_count": 40,
   "id": "8df2c69a-84c7-44a8-9cba-1312c627f483",
   "metadata": {},
   "outputs": [],
   "source": [
    "counter = Counter(train['cat_list'])"
   ]
  },
  {
   "cell_type": "code",
   "execution_count": 41,
   "id": "b48fcf20-cd56-477d-a10d-b932376ca31a",
   "metadata": {},
   "outputs": [
    {
     "name": "stdout",
     "output_type": "stream",
     "text": [
      "Counter({'Games': 15489, 'Software': 10219, 'Mobile': 4405, 'Biotechnology': 3644, 'E-Commerce': 2785, None: 2451, 'Curated Web': 1973, 'Advertising': 1301, 'Analytics': 1235, 'Education': 1175, 'Clean Technology': 1151, 'Finance': 1124, 'Social Media': 1095, 'App': 1007, 'Manufacturing': 956, 'Security': 729, 'Real Estate': 586, 'Consulting': 525, 'Semiconductors': 491})\n"
     ]
    }
   ],
   "source": [
    "print(counter)"
   ]
  },
  {
   "cell_type": "markdown",
   "id": "427a5d82-b923-4538-a69f-67c440344c93",
   "metadata": {},
   "source": [
    "### Добавим новые колонки"
   ]
  },
  {
   "cell_type": "code",
   "execution_count": 42,
   "id": "355c5801-e0a2-40e8-92ba-6a9649975116",
   "metadata": {},
   "outputs": [],
   "source": [
    "train['founding_year'] = pd.to_datetime(train['founded_at']).dt.year"
   ]
  },
  {
   "cell_type": "code",
   "execution_count": 43,
   "id": "cdc9fa8f-42fa-4a33-ae34-b650c9f207d7",
   "metadata": {},
   "outputs": [],
   "source": [
    "train['first_funding_year'] = pd.to_datetime(train['first_funding_at']).dt.year"
   ]
  },
  {
   "cell_type": "code",
   "execution_count": 44,
   "id": "e8121203-4855-44f4-a086-ee3929044259",
   "metadata": {},
   "outputs": [],
   "source": [
    "train['last_funding_year'] = pd.to_datetime(train['last_funding_at']).dt.year"
   ]
  },
  {
   "cell_type": "code",
   "execution_count": 45,
   "id": "f591d58d-059b-48ec-985a-9dd974235d6b",
   "metadata": {},
   "outputs": [],
   "source": [
    "train['close_year'] = pd.to_datetime(train['closed_at']).dt.year"
   ]
  },
  {
   "cell_type": "markdown",
   "id": "00f05b05-e05a-47d9-9b76-ddef2ada103f",
   "metadata": {},
   "source": [
    "## Корреляция"
   ]
  },
  {
   "cell_type": "code",
   "execution_count": 47,
   "id": "a1196ee4-790e-445d-9a82-ae67980b81a6",
   "metadata": {},
   "outputs": [],
   "source": [
    "cols_to_drop = ['name', 'category_list', 'founded_at', 'first_funding_at', 'last_funding_at',\n",
    "                'closed_at', 'city', 'region']"
   ]
  },
  {
   "cell_type": "code",
   "execution_count": 48,
   "id": "f09df085-4646-47b5-ae38-28dd1d48d96f",
   "metadata": {},
   "outputs": [],
   "source": [
    "interval_cols = ['funding_total_usd', 'funding_rounds', 'founding_year', 'first_funding_year',\n",
    "            'last_funding_year', 'close_year']"
   ]
  },
  {
   "cell_type": "code",
   "execution_count": 49,
   "id": "581ac5e4-14f0-456d-a01f-30f869f1ecd6",
   "metadata": {},
   "outputs": [],
   "source": [
    "phik_overview = phik_matrix(train.drop(cols_to_drop, axis=1), interval_cols=interval_cols)"
   ]
  },
  {
   "cell_type": "code",
   "execution_count": 50,
   "id": "0e708f58-f694-46d8-89e1-c8a0c22f550b",
   "metadata": {},
   "outputs": [
    {
     "data": {
      "image/png": "[encoded data removed]",
      "text/plain": [
       "<Figure size 2000x1500 with 2 Axes>"
      ]
     },
     "metadata": {},
     "output_type": "display_data"
    }
   ],
   "source": [
    "plot_correlation_matrix(\n",
    "    phik_overview.values,\n",
    "    x_labels=phik_overview.columns,\n",
    "    y_labels=phik_overview.index,\n",
    "    vmin=0, vmax=1, color_map='Greens',\n",
    "    title='Матрица корреляции',\n",
    "    fontsize_factor=1.5,\n",
    "    figsize=(20, 15)\n",
    ")\n",
    "plt.show()"
   ]
  },
  {
   "cell_type": "markdown",
   "id": "81551073-3e97-4f0d-ab17-89da24a9cce7",
   "metadata": {},
   "source": [
    "<div class=\"alert alert-info\" style=\"border-radius: 15px; box-shadow: 4px 4px 4px; border: 1px solid \">\n",
    "    \n",
    "Корреляция целевого признака очень низкая. Практически отсутствует.\n",
    "</div>"
   ]
  },
  {
   "cell_type": "markdown",
   "id": "fa1ea64a-4970-4177-ba9a-cca2d105a71f",
   "metadata": {},
   "source": [
    "## ML модель"
   ]
  },
  {
   "cell_type": "markdown",
   "id": "10e56bb7-fddc-4298-b407-ae4f9929a8fa",
   "metadata": {},
   "source": [
    "### Подготовка данных"
   ]
  },
  {
   "cell_type": "code",
   "execution_count": 51,
   "id": "ae050dc6-1e81-44f9-aa85-6491fe3c0cd6",
   "metadata": {},
   "outputs": [],
   "source": [
    "def replace_inf(df):\n",
    "    return df.replace([np.inf, -np.inf], np.nan)"
   ]
  },
  {
   "cell_type": "code",
   "execution_count": 52,
   "id": "8b759a5f-f3d8-43eb-8c79-29d33a8ddba9",
   "metadata": {},
   "outputs": [],
   "source": [
    "X = train.drop(cols_to_drop, axis=1).drop('status', axis=1)"
   ]
  },
  {
   "cell_type": "code",
   "execution_count": 53,
   "id": "d71066f4-c6da-4a3d-806a-5ef071032893",
   "metadata": {},
   "outputs": [],
   "source": [
    "y = train['status']"
   ]
  },
  {
   "cell_type": "code",
   "execution_count": 54,
   "id": "a7721898-bb67-4c79-b335-26ca8ab7fd42",
   "metadata": {},
   "outputs": [],
   "source": [
    "X_train, X_test, y_train, y_test = train_test_split(\n",
    "    X,\n",
    "    y,\n",
    "    random_state=42,\n",
    "    test_size=0.25,\n",
    "    stratify=y)"
   ]
  },
  {
   "cell_type": "code",
   "execution_count": 55,
   "id": "bec13d36-2260-40f3-86e4-e52a347bc3fb",
   "metadata": {},
   "outputs": [],
   "source": [
    "num_cols = interval_cols\n",
    "cat_cols = ['country_code', 'state_code', 'cat_list']"
   ]
  },
  {
   "cell_type": "markdown",
   "id": "039a9d02-89a9-4850-9d05-e22dd9a43e5c",
   "metadata": {},
   "source": [
    "### Пайплайн"
   ]
  },
  {
   "cell_type": "code",
   "execution_count": 56,
   "id": "7eb2922d-9f43-47b2-848c-2d5cd8ccdb0a",
   "metadata": {},
   "outputs": [],
   "source": [
    "cat_pipe = Pipeline([\n",
    "    ('replace_inf', FunctionTransformer(replace_inf)),\n",
    "    ('imputer', SimpleImputer(missing_values=np.nan, strategy='most_frequent')),\n",
    "    ('cat', OneHotEncoder(drop='first', handle_unknown='ignore', sparse_output=False))\n",
    "])"
   ]
  },
  {
   "cell_type": "code",
   "execution_count": 57,
   "id": "dbd7634a-6a75-4662-a0f8-a59cad7827fb",
   "metadata": {},
   "outputs": [],
   "source": [
    "num_pipe = Pipeline([\n",
    "    ('replace_inf', FunctionTransformer(replace_inf)),\n",
    "    ('imputer', SimpleImputer(missing_values=np.nan, strategy='median')),\n",
    "    ('num', StandardScaler())\n",
    "])"
   ]
  },
  {
   "cell_type": "code",
   "execution_count": 58,
   "id": "2a0dc3a8-be1d-48f9-abb1-4b842046d4df",
   "metadata": {},
   "outputs": [],
   "source": [
    "data_prepare = ColumnTransformer([\n",
    "    ('cat', cat_pipe, cat_cols),\n",
    "    ('num', num_pipe, num_cols)\n",
    "], remainder='passthrough')"
   ]
  },
  {
   "cell_type": "code",
   "execution_count": 59,
   "id": "58d3c12b-eb58-4ed1-853b-6a93fdc5bdad",
   "metadata": {},
   "outputs": [],
   "source": [
    "final_pipe = Pipeline([\n",
    "    ('preprocessor', data_prepare),\n",
    "    ('model', LogisticRegression(random_state=42))\n",
    "])"
   ]
  },
  {
   "cell_type": "code",
   "execution_count": 60,
   "id": "ae6c71db-b103-41e9-8825-ccd4209a1ba1",
   "metadata": {},
   "outputs": [],
   "source": [
    "hyperparam = [\n",
    "    {'model': [DecisionTreeClassifier(random_state=42)],\n",
    "     'preprocessor__num': [StandardScaler(), MinMaxScaler(), 'passthrough']},\n",
    "    \n",
    "    {'model': [KNeighborsClassifier()],\n",
    "     'model__n_neighbors': range(3, 15),\n",
    "     'preprocessor__num': [StandardScaler(), MinMaxScaler(), 'passthrough']},\n",
    "\n",
    "    {'model': [LogisticRegression(\n",
    "         random_state=42, \n",
    "         solver='liblinear', \n",
    "         penalty='l1')],\n",
    "     'model__C': range(1, 5),\n",
    "     'preprocessor__num': [StandardScaler(), MinMaxScaler(), 'passthrough']}\n",
    "]"
   ]
  },
  {
   "cell_type": "code",
   "execution_count": 68,
   "id": "5e2dff63-495e-4a67-9e06-2f36c8f13f0b",
   "metadata": {},
   "outputs": [],
   "source": [
    "random_search = RandomizedSearchCV(\n",
    "    final_pipe,\n",
    "    param_distributions=hyperparam,\n",
    "    cv=5,\n",
    "    random_state=42,\n",
    "    scoring='roc_auc',\n",
    "    n_jobs=10,\n",
    "    error_score='raise'\n",
    ")"
   ]
  },
  {
   "cell_type": "code",
   "execution_count": null,
   "id": "768e7a9f-682f-4c2d-afef-cd794a6440df",
   "metadata": {},
   "outputs": [],
   "source": []
  }
 ],
 "metadata": {
  "kernelspec": {
   "display_name": "Python 3 (ipykernel)",
   "language": "python",
   "name": "python3"
  },
  "language_info": {
   "codemirror_mode": {
    "name": "ipython",
    "version": 3
   },
   "file_extension": ".py",
   "mimetype": "text/x-python",
   "name": "python",
   "nbconvert_exporter": "python",
   "pygments_lexer": "ipython3",
   "version": "3.13.3"
  },
  "toc": {
   "base_numbering": 0
  }
 },
 "nbformat": 4,
 "nbformat_minor": 5
}
